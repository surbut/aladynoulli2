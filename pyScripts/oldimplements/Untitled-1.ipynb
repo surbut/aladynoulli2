{
 "cells": [
  {
   "cell_type": "code",
   "execution_count": 8,
   "metadata": {},
   "outputs": [],
   "source": [
    "\n",
    "import GPy\n",
    "import numpy as np\n"
   ]
  },
  {
   "cell_type": "code",
   "execution_count": 10,
   "metadata": {},
   "outputs": [
    {
     "ename": "AttributeError",
     "evalue": "'float' object has no attribute 'squeeze'",
     "output_type": "error",
     "traceback": [
      "\u001b[0;31m---------------------------------------------------------------------------\u001b[0m",
      "\u001b[0;31mAttributeError\u001b[0m                            Traceback (most recent call last)",
      "Cell \u001b[0;32mIn[10], line 21\u001b[0m\n\u001b[1;32m     18\u001b[0m t \u001b[38;5;241m=\u001b[39m np\u001b[38;5;241m.\u001b[39marange(T)\n\u001b[1;32m     19\u001b[0m Z_ik \u001b[38;5;241m=\u001b[39m np\u001b[38;5;241m.\u001b[39marray([\u001b[38;5;241m0\u001b[39m, \u001b[38;5;241m1\u001b[39m, \u001b[38;5;241m0\u001b[39m, \u001b[38;5;241m1\u001b[39m, \u001b[38;5;241m0\u001b[39m, \u001b[38;5;241m0\u001b[39m, \u001b[38;5;241m1\u001b[39m, \u001b[38;5;241m0\u001b[39m, \u001b[38;5;241m1\u001b[39m, \u001b[38;5;241m0\u001b[39m])  \u001b[38;5;66;03m# Observed z_ikt for individual i and category k\u001b[39;00m\n\u001b[0;32m---> 21\u001b[0m lambda_ik_posterior, lambda_ik_var \u001b[38;5;241m=\u001b[39m \u001b[43mgp_classification_lambda\u001b[49m\u001b[43m(\u001b[49m\u001b[43mZ_ik\u001b[49m\u001b[43m,\u001b[49m\u001b[43m \u001b[49m\u001b[43mt\u001b[49m\u001b[43m)\u001b[49m\n",
      "Cell \u001b[0;32mIn[10], line 14\u001b[0m, in \u001b[0;36mgp_classification_lambda\u001b[0;34m(Z_ik, t)\u001b[0m\n\u001b[1;32m     11\u001b[0m lambda_ik_posterior, lambda_ik_var \u001b[38;5;241m=\u001b[39m model\u001b[38;5;241m.\u001b[39mpredict(X)\n\u001b[1;32m     13\u001b[0m \u001b[38;5;66;03m# Ensure the output is always a 1D numpy array\u001b[39;00m\n\u001b[0;32m---> 14\u001b[0m \u001b[38;5;28;01mreturn\u001b[39;00m np\u001b[38;5;241m.\u001b[39matleast_1d(lambda_ik_posterior\u001b[38;5;241m.\u001b[39msqueeze()), np\u001b[38;5;241m.\u001b[39matleast_1d(\u001b[43mlambda_ik_var\u001b[49m\u001b[38;5;241;43m.\u001b[39;49m\u001b[43msqueeze\u001b[49m())\n",
      "\u001b[0;31mAttributeError\u001b[0m: 'float' object has no attribute 'squeeze'"
     ]
    }
   ],
   "source": [
    "\n",
    "\n",
    "def gp_classification_lambda(Z_ik, t):\n",
    "    T = len(Z_ik)\n",
    "    X = t.reshape(-1, 1)\n",
    "    Y = Z_ik.reshape(-1, 1)\n",
    "    \n",
    "    kernel = GPy.kern.RBF(input_dim=1, variance=1., lengthscale=1.)\n",
    "    model = GPy.models.GPClassification(X, Y, kernel=kernel)\n",
    "    model.optimize()\n",
    "    \n",
    "    # Predict the latent function (before sigmoid)\n",
    "    lambda_ik_posterior, lambda_ik_var = model.predict(X)\n",
    "    \n",
    "    # Ensure the output is always a 1D numpy array\n",
    "    return np.atleast_1d(lambda_ik_posterior.squeeze()), np.atleast_1d(lambda_ik_var.squeeze())\n",
    "\n",
    "# Example data\n",
    "T = 10\n",
    "t = np.arange(T)\n",
    "Z_ik = np.array([0, 1, 0, 1, 0, 0, 1, 0, 1, 0])  # Observed z_ikt for individual i and category k\n",
    "\n",
    "lambda_ik_posterior, lambda_ik_var = gp_classification_lambda(Z_ik, t)\n"
   ]
  },
  {
   "cell_type": "code",
   "execution_count": null,
   "metadata": {},
   "outputs": [],
   "source": [
    "\n",
    "# Calculate probabilities\n",
    "probabilities = 1 / (1 + np.exp(-lambda_ik_posterior))\n",
    "\n",
    "# Plotting\n",
    "import matplotlib.pyplot as plt\n",
    "\n",
    "plt.figure(figsize=(12, 6))\n",
    "\n",
    "# Plot the latent function\n",
    "plt.subplot(1, 2, 1)\n",
    "plt.plot(t, lambda_ik_posterior, 'b-', label='Posterior Mean')\n",
    "plt.fill_between(t, \n",
    "                 lambda_ik_posterior - 2*np.sqrt(lambda_ik_var),\n",
    "                 lambda_ik_posterior + 2*np.sqrt(lambda_ik_var),\n",
    "                 color='b', alpha=0.2, label='95% CI')\n",
    "plt.scatter(t[Z_ik == 1], [3] * np.sum(Z_ik == 1), c='r', marker='o', s=100, label='Observed 1')\n",
    "plt.scatter(t[Z_ik == 0], [-3] * np.sum(Z_ik == 0), c='g', marker='x', s=100, label='Observed 0')\n",
    "plt.title('GP Classification: Latent Function')\n",
    "plt.xlabel('Time')\n",
    "plt.ylabel('Latent Function Value')\n",
    "plt.legend()\n",
    "plt.ylim(-4, 4)  # Adjust y-axis limits to show all points\n",
    "\n",
    "# Plot the probabilities\n",
    "plt.subplot(1, 2, 2)\n",
    "plt.plot(t, probabilities, 'b-', label='Probability')\n",
    "plt.scatter(t[Z_ik == 1], [1] * np.sum(Z_ik == 1), c='r', marker='o', s=100, label='Observed 1')\n",
    "plt.scatter(t[Z_ik == 0], [0] * np.sum(Z_ik == 0), c='g', marker='x', s=100, label='Observed 0')\n",
    "plt.title('GP Classification: Probabilities')\n",
    "plt.xlabel('Time')\n",
    "plt.ylabel('Probability')\n",
    "plt.ylim(-0.1, 1.1)\n",
    "plt.legend()\n",
    "\n",
    "plt.tight_layout()\n",
    "plt.show()"
   ]
  }
 ],
 "metadata": {
  "kernelspec": {
   "display_name": "bertopic_env",
   "language": "python",
   "name": "python3"
  },
  "language_info": {
   "codemirror_mode": {
    "name": "ipython",
    "version": 3
   },
   "file_extension": ".py",
   "mimetype": "text/x-python",
   "name": "python",
   "nbconvert_exporter": "python",
   "pygments_lexer": "ipython3",
   "version": "3.9.19"
  }
 },
 "nbformat": 4,
 "nbformat_minor": 2
}
