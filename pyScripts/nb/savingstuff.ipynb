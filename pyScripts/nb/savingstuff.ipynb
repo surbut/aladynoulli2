{
 "cells": [
  {
   "cell_type": "code",
   "execution_count": 2,
   "metadata": {},
   "outputs": [],
   "source": [
    "import rpy2.robjects as robjects\n",
    "import numpy as np\n",
    "import os as os\n",
    "from rpy2.robjects import numpy2ri\n",
    "import torch\n",
    "import torch.nn as nn\n",
    "import torch.optim as optim\n",
    "import numpy as np\n",
    "from scipy.spatial.distance import pdist, squareform\n",
    "from scipy.special import expit\n",
    "from scipy.stats import multivariate_normal\n",
    "import matplotlib.pyplot as plt\n"
   ]
  },
  {
   "cell_type": "code",
   "execution_count": 3,
   "metadata": {},
   "outputs": [
    {
     "name": "stdout",
     "output_type": "stream",
     "text": [
      "G shape after transposition: (9661, 36)\n"
     ]
    }
   ],
   "source": [
    "\n",
    "\n",
    "%load_ext autoreload\n",
    "%autoreload 2\n",
    "# Specify the path to your data files\n",
    "data_path = \"/Users/sarahurbut/tensornoulli_ehr_new/data\"\n",
    "\n",
    "# Activate automatic conversion between R and NumPy arrays\n",
    "numpy2ri.activate()# Load data saved as .rds files\n",
    "Y = np.array(robjects.r['readRDS'](os.path.join(data_path, 'Y.rds')))\n",
    "E = np.array(robjects.r['readRDS'](os.path.join(data_path, 'event_for_aladynoulli.rds')))\n",
    "G = np.array(robjects.r['readRDS'](os.path.join(data_path, 'prs.rds')))\n",
    "\n",
    "E = E.astype(int)\n",
    "\n",
    "# G should be float64\n",
    "G = G.astype(float)\n",
    "G.shape\n",
    "G = G.T\n",
    "print(\"G shape after transposition:\", G.shape)\n",
    "\n",
    "# Convert to PyTorch tensors\n",
    "Y_tensor = torch.FloatTensor(Y)\n",
    "E_tensor = torch.FloatTensor(E)\n",
    "G_tensor = torch.FloatTensor(G)\n"
   ]
  },
  {
   "cell_type": "code",
   "execution_count": 4,
   "metadata": {},
   "outputs": [
    {
     "name": "stdout",
     "output_type": "stream",
     "text": [
      "Tensor shapes:\n",
      "Y: torch.Size([9661, 348, 51])\n",
      "E: torch.Size([9661, 348])\n",
      "G: torch.Size([9661, 36])\n",
      "Time range: 0 to 50\n",
      "51\n",
      "20\n"
     ]
    }
   ],
   "source": [
    "\n",
    "# Get dimensions\n",
    "N, D, T = Y_tensor.shape\n",
    "P = G_tensor.shape[1]\n",
    "T = int(E_tensor.max() + 1)  # 0-indexed time\n",
    "K = 20  # number of topics\n",
    "\n",
    "# Print shapes to verify\n",
    "print(\"Tensor shapes:\")\n",
    "print(f\"Y: {Y_tensor.shape}\")  # [N, D]\n",
    "print(f\"E: {E_tensor.shape}\")  # [N, D]\n",
    "print(f\"G: {G_tensor.shape}\")  # [N, P]\n",
    "print(f\"Time range: 0 to {T-1}\")\n",
    "print(T)\n",
    "print(K)"
   ]
  },
  {
   "cell_type": "code",
   "execution_count": 5,
   "metadata": {},
   "outputs": [],
   "source": [
    "\n",
    "import rpy2.robjects as robjects\n",
    "import pandas as pd\n",
    "from rpy2.robjects import pandas2ri\n",
    "pandas2ri.activate()\n",
    "\n",
    "# Load the metadata from R\n",
    "disease_names = pd.DataFrame(robjects.r['readRDS']('/Users/sarahurbut/Dropbox (Personal)/disease_names.rds'))\n",
    "prs_names = pd.DataFrame(robjects.r['readRDS']('/Users/sarahurbut/Dropbox (Personal)/prs_names.rds'))\n",
    "disease_names_list = disease_names[0].tolist()"
   ]
  },
  {
   "cell_type": "code",
   "execution_count": 10,
   "metadata": {},
   "outputs": [
    {
     "data": {
      "text/plain": [
       "'/Users/sarahurbut/Dropbox (Personal)/aladynoulli'"
      ]
     },
     "execution_count": 10,
     "metadata": {},
     "output_type": "execute_result"
    }
   ],
   "source": [
    "# Save tensors\n",
    "\n",
    "notebook_dir = '/Users/sarahurbut/Dropbox (Personal)/aladynoulli'\n",
    "notebook_dir"
   ]
  },
  {
   "cell_type": "code",
   "execution_count": 11,
   "metadata": {},
   "outputs": [],
   "source": [
    "\n",
    "tensor_path = os.path.join(notebook_dir, 'Y_10k.pt')\n",
    "torch.save(Y_tensor, tensor_path)\n",
    "\n",
    "tensor_path = os.path.join(notebook_dir, 'E_10k.pt')\n",
    "torch.save(torch.tensor(E), tensor_path)\n",
    "\n",
    "tensor_path = os.path.join(notebook_dir, 'G_10k.pt')\n",
    "torch.save(torch.tensor(G), tensor_path)\n"
   ]
  },
  {
   "cell_type": "code",
   "execution_count": 12,
   "metadata": {},
   "outputs": [],
   "source": [
    "\n",
    "# Save the disease names and PRS names as regular Python lists\n",
    "import pickle\n",
    "with open('disease_names.pkl', 'wb') as f:\n",
    "    pickle.dump(disease_names_list, f)"
   ]
  }
 ],
 "metadata": {
  "kernelspec": {
   "display_name": "pyro_env",
   "language": "python",
   "name": "python3"
  },
  "language_info": {
   "codemirror_mode": {
    "name": "ipython",
    "version": 3
   },
   "file_extension": ".py",
   "mimetype": "text/x-python",
   "name": "python",
   "nbconvert_exporter": "python",
   "pygments_lexer": "ipython3",
   "version": "3.9.19"
  }
 },
 "nbformat": 4,
 "nbformat_minor": 2
}
